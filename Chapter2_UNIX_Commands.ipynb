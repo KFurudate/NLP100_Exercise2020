{
  "nbformat": 4,
  "nbformat_minor": 0,
  "metadata": {
    "colab": {
      "name": "Chapter2_UNIX_Commands",
      "provenance": [],
      "collapsed_sections": [
        "UiQGWjOHBRZ4",
        "NL-sAM2PBqgv",
        "FErdX1TWCCNN",
        "_AEbPbMGCrrl",
        "p48NdIm5EQrY",
        "34KsSzefF15S"
      ],
      "authorship_tag": "ABX9TyNvoG+5d+kz203Pf1WI764a",
      "include_colab_link": true
    },
    "kernelspec": {
      "name": "python3",
      "display_name": "Python 3"
    }
  },
  "cells": [
    {
      "cell_type": "markdown",
      "metadata": {
        "id": "view-in-github",
        "colab_type": "text"
      },
      "source": [
        "<a href=\"https://colab.research.google.com/github/KFurudate/NLP100_Exercise2020/blob/main/Chapter2_UNIX_Commands.ipynb\" target=\"_parent\"><img src=\"https://colab.research.google.com/assets/colab-badge.svg\" alt=\"Open In Colab\"/></a>"
      ]
    },
    {
      "cell_type": "markdown",
      "metadata": {
        "id": "N37YMVc4ZrpG"
      },
      "source": [
        "# 第2章: UNIXコマンド\n",
        "https://nlp100.github.io/ja/ch02.html"
      ]
    },
    {
      "cell_type": "markdown",
      "metadata": {
        "id": "UiQGWjOHBRZ4"
      },
      "source": [
        "###10. 行数のカウント\n",
        "行数をカウントせよ．確認にはwcコマンドを用いよ"
      ]
    },
    {
      "cell_type": "code",
      "metadata": {
        "colab": {
          "base_uri": "https://localhost:8080/"
        },
        "id": "TeIpWumLBCR9",
        "outputId": "22e68da8-a035-443b-edf4-c3c14619dd78"
      },
      "source": [
        "!pwd"
      ],
      "execution_count": 1,
      "outputs": [
        {
          "output_type": "stream",
          "text": [
            "/content\n"
          ],
          "name": "stdout"
        }
      ]
    },
    {
      "cell_type": "code",
      "metadata": {
        "colab": {
          "base_uri": "https://localhost:8080/"
        },
        "id": "BOMOAPPNBIRO",
        "outputId": "e4fe02c7-a965-4911-9aee-c97d5634909b"
      },
      "source": [
        "!ls"
      ],
      "execution_count": 2,
      "outputs": [
        {
          "output_type": "stream",
          "text": [
            "popular-names.txt  sample_data\n"
          ],
          "name": "stdout"
        }
      ]
    },
    {
      "cell_type": "code",
      "metadata": {
        "colab": {
          "base_uri": "https://localhost:8080/"
        },
        "id": "VC5_JUnEMgnL",
        "outputId": "de94d7ca-e99d-45fa-d318-9c109ff73a6d"
      },
      "source": [
        "! wc -l popular-names.txt"
      ],
      "execution_count": 9,
      "outputs": [
        {
          "output_type": "stream",
          "text": [
            "2780 popular-names.txt\n"
          ],
          "name": "stdout"
        }
      ]
    },
    {
      "cell_type": "markdown",
      "metadata": {
        "id": "NL-sAM2PBqgv"
      },
      "source": [
        "### 11. タブをスペースに置換\n",
        "タブ1文字につきスペース1文字に置換せよ．確認にはsedコマンド，trコマンド，もしくはexpandコマンドを用いよ．"
      ]
    },
    {
      "cell_type": "markdown",
      "metadata": {
        "id": "FErdX1TWCCNN"
      },
      "source": [
        "### 12. 1列目をcol1.txtに，2列目をcol2.txtに保存\n",
        "各行の1列目だけを抜き出したものをcol1.txtに，2列目だけを抜き出したものをcol2.txtとしてファイルに保存せよ．確認にはcutコマンドを用いよ．\n",
        "\n"
      ]
    },
    {
      "cell_type": "markdown",
      "metadata": {
        "id": "_AEbPbMGCrrl"
      },
      "source": [
        "### 13. col1.txtとcol2.txtをマージPermalink\n",
        "12で作ったcol1.txtとcol2.txtを結合し，元のファイルの1列目と2列目をタブ区切りで並べたテキストファイルを作成せよ．確認にはpasteコマンドを用いよ．"
      ]
    },
    {
      "cell_type": "markdown",
      "metadata": {
        "id": "p48NdIm5EQrY"
      },
      "source": [
        "### 14. 先頭からN行を出力\n",
        "自然数Nをコマンドライン引数などの手段で受け取り，入力のうち先頭のN行だけを表示せよ．確認にはheadコマンドを用いよ．"
      ]
    },
    {
      "cell_type": "markdown",
      "metadata": {
        "id": "34KsSzefF15S"
      },
      "source": [
        "### 15. 末尾のN行を出力Permalink\n",
        "自然数Nをコマンドライン引数などの手段で受け取り，入力のうち末尾のN行だけを表示せよ．確認にはtailコマンドを用いよ"
      ]
    },
    {
      "cell_type": "markdown",
      "metadata": {
        "id": "WOEaiQdcVzT6"
      },
      "source": [
        "# 16. ファイルをN分割する\n",
        "自然数Nをコマンドライン引数などの手段で受け取り，入力のファイルを行単位でN分割せよ．同様の処理をsplitコマンドで実現せよ"
      ]
    },
    {
      "cell_type": "markdown",
      "metadata": {
        "id": "o9fWNRDboo7t"
      },
      "source": [
        "### 17. １列目の文字列の異なり\n",
        "1列目の文字列の種類（異なる文字列の集合）を求めよ．確認にはcut, sort, uniqコマンドを用いよ．"
      ]
    },
    {
      "cell_type": "markdown",
      "metadata": {
        "id": "IC8LYh6ZpmaM"
      },
      "source": [
        "### 18. 各行を3コラム目の数値の降順にソートPermalink\n",
        "各行を3コラム目の数値の逆順で整列せよ（注意: 各行の内容は変更せずに並び替えよ）．確認にはsortコマンドを用いよ（この問題はコマンドで実行した時の結果と合わなくてもよい）．"
      ]
    },
    {
      "cell_type": "markdown",
      "metadata": {
        "id": "FtMNqzmgtV4N"
      },
      "source": [
        "### 19. 各行の1コラム目の文字列の出現頻度を求め，出現頻度の高い順に並べる\n",
        "各行の1列目の文字列の出現頻度を求め，その高い順に並べて表示せよ．確認にはcut, uniq, sortコマンドを用いよ．"
      ]
    },
    {
      "cell_type": "code",
      "metadata": {
        "id": "s_fuQIT8xJ5r"
      },
      "source": [
        ""
      ],
      "execution_count": null,
      "outputs": []
    }
  ]
}