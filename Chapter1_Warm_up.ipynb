{
  "nbformat": 4,
  "nbformat_minor": 0,
  "metadata": {
    "colab": {
      "name": "Chapter1_Warm-up.ipynb",
      "provenance": [],
      "collapsed_sections": [],
      "authorship_tag": "ABX9TyPa2WJYvSB1/TZJCfoVzAg7",
      "include_colab_link": true
    },
    "kernelspec": {
      "name": "python3",
      "display_name": "Python 3"
    }
  },
  "cells": [
    {
      "cell_type": "markdown",
      "metadata": {
        "id": "view-in-github",
        "colab_type": "text"
      },
      "source": [
        "<a href=\"https://colab.research.google.com/github/KFurudate/NLP100_Exercise2020/blob/main/Chapter1_Warm_up.ipynb\" target=\"_parent\"><img src=\"https://colab.research.google.com/assets/colab-badge.svg\" alt=\"Open In Colab\"/></a>"
      ]
    },
    {
      "cell_type": "markdown",
      "metadata": {
        "id": "N37YMVc4ZrpG"
      },
      "source": [
        "# 第1章: 準備運動\n",
        "https://nlp100.github.io/ja/ch01.html"
      ]
    },
    {
      "cell_type": "markdown",
      "metadata": {
        "id": "UiQGWjOHBRZ4"
      },
      "source": [
        "###00. 文字列の逆順\n",
        "文字列”stressed”の文字を逆に（末尾から先頭に向かって）並べた文字列を得よ．"
      ]
    },
    {
      "cell_type": "code",
      "metadata": {
        "id": "L7jspVMwBAwu",
        "colab": {
          "base_uri": "https://localhost:8080/"
        },
        "outputId": "ea44bf0b-9b96-460f-a086-040e48101ce7"
      },
      "source": [
        "string = \"stressed\"\n",
        "\n",
        "print(string[::-1])"
      ],
      "execution_count": 1,
      "outputs": [
        {
          "output_type": "stream",
          "text": [
            "desserts\n"
          ],
          "name": "stdout"
        }
      ]
    },
    {
      "cell_type": "markdown",
      "metadata": {
        "id": "NL-sAM2PBqgv"
      },
      "source": [
        "### 01. 「パタトクカシーー\n",
        "「パタトクカシーー」という文字列の1,3,5,7文字目を取り出して連結した文字列を得よ．"
      ]
    },
    {
      "cell_type": "code",
      "metadata": {
        "id": "Gu9LSe9lBkSV",
        "colab": {
          "base_uri": "https://localhost:8080/"
        },
        "outputId": "87b2510e-2469-421e-c53f-0fc26640a41a"
      },
      "source": [
        "string = \"パタトクカシーー\"\n",
        "\n",
        "new_str = string[0] +  string[2] +  string[4]  +  string[6] \n",
        "print(new_str)"
      ],
      "execution_count": 2,
      "outputs": [
        {
          "output_type": "stream",
          "text": [
            "パトカー\n"
          ],
          "name": "stdout"
        }
      ]
    },
    {
      "cell_type": "markdown",
      "metadata": {
        "id": "FErdX1TWCCNN"
      },
      "source": [
        "### 02. 「パトカー」＋「タクシー」＝「パタトクカシーー」\n",
        "「パトカー」＋「タクシー」の文字を先頭から交互に連結して文字列「パタトクカシーー」を得よ．\n",
        "\n"
      ]
    },
    {
      "cell_type": "code",
      "metadata": {
        "id": "1cpiDrEDB92a",
        "colab": {
          "base_uri": "https://localhost:8080/"
        },
        "outputId": "051f0ab9-030c-4520-ac5f-40b7828d1820"
      },
      "source": [
        "str1 = \"パトカー\"\n",
        "str2 = \"タクシー\"\n",
        "new_str = \"\"\n",
        "for i in range(len(str1)):\n",
        "  tmp = str1[i] + str2[i]\n",
        "  new_str += tmp\n",
        "  \n",
        "print(new_str)"
      ],
      "execution_count": 3,
      "outputs": [
        {
          "output_type": "stream",
          "text": [
            "パタトクカシーー\n"
          ],
          "name": "stdout"
        }
      ]
    },
    {
      "cell_type": "markdown",
      "metadata": {
        "id": "_AEbPbMGCrrl"
      },
      "source": [
        "### 03. 円周率\n",
        "“Now I need a drink, alcoholic of course, after the heavy lectures involving quantum mechanics.”という文を単語に分解し，各単語の（アルファベットの）文字数を先頭から出現順に並べたリストを作成せよ．"
      ]
    },
    {
      "cell_type": "code",
      "metadata": {
        "id": "27A62HrWChFb",
        "colab": {
          "base_uri": "https://localhost:8080/"
        },
        "outputId": "f60ee7ec-195d-48ec-ec56-da33b12f9730"
      },
      "source": [
        "string = \"Now I need a drink, alcoholic of course, after the heavy lectures involving quantum mechanics.\"\n",
        "\n",
        "ans =  [len(word) for word in string.split(\" \")]\n",
        "print(ans)"
      ],
      "execution_count": 4,
      "outputs": [
        {
          "output_type": "stream",
          "text": [
            "[3, 1, 4, 1, 6, 9, 2, 7, 5, 3, 5, 8, 9, 7, 10]\n"
          ],
          "name": "stdout"
        }
      ]
    },
    {
      "cell_type": "markdown",
      "metadata": {
        "id": "p48NdIm5EQrY"
      },
      "source": [
        "### 04. 元素記号\n",
        "“Hi He Lied Because Boron Could Not Oxidize Fluorine. New Nations Might Also Sign Peace Security Clause. Arthur King Can.”という文を単語に分解し，1, 5, 6, 7, 8, 9, 15, 16, 19番目の単語は先頭の1文字，それ以外の単語は先頭の2文字を取り出し，取り出した文字列から単語の位置（先頭から何番目の単語か）への連想配列（辞書型もしくはマップ型）を作成せよ．"
      ]
    },
    {
      "cell_type": "code",
      "metadata": {
        "id": "8tLouNVPC5tA",
        "colab": {
          "base_uri": "https://localhost:8080/"
        },
        "outputId": "1de02086-a30f-46b5-cb8f-4638b442e1a9"
      },
      "source": [
        "string = \"Hi He Lied Because Boron Could Not Oxidize Fluorine. New Nations Might Also Sign Peace Security Clause. Arthur King Can.\"\n",
        "\n",
        "ans_dic = {}\n",
        "\n",
        "for idx, word in enumerate(string.split(\" \")):\n",
        "  key = idx+1\n",
        "  if key in (1, 5, 6, 7, 8, 9, 15, 16, 19):\n",
        "    val = word[0]\n",
        "  else:\n",
        "    val = word[:2]\n",
        "  ans_dic[key] = val\n",
        "\n",
        "print(ans_dic)"
      ],
      "execution_count": 5,
      "outputs": [
        {
          "output_type": "stream",
          "text": [
            "{1: 'H', 2: 'He', 3: 'Li', 4: 'Be', 5: 'B', 6: 'C', 7: 'N', 8: 'O', 9: 'F', 10: 'Ne', 11: 'Na', 12: 'Mi', 13: 'Al', 14: 'Si', 15: 'P', 16: 'S', 17: 'Cl', 18: 'Ar', 19: 'K', 20: 'Ca'}\n"
          ],
          "name": "stdout"
        }
      ]
    },
    {
      "cell_type": "markdown",
      "metadata": {
        "id": "34KsSzefF15S"
      },
      "source": [
        "### 05. n-gram\n",
        "与えられたシーケンス（文字列やリストなど）からn-gramを作る関数を作成せよ．この関数を用い，”I am an NLPer”という文から単語bi-gram，文字bi-gramを得よ"
      ]
    },
    {
      "cell_type": "markdown",
      "metadata": {
        "id": "vrF0qZ25Gpkw"
      },
      "source": [
        "####n-gramとは\n",
        "\n",
        "任意の文字列や文書を連続したn個の文字で分割するテキスト分割方法．特に，nが1の場合をユニグラム（uni-gram），2の場合をバイグラム（bi-gram），3の場合をトライグラム（tri-gram）と呼ぶ．\n",
        "\n",
        "参考：https://qiita.com/kazmaw/items/4df328cba6429ec210fb\n"
      ]
    },
    {
      "cell_type": "code",
      "metadata": {
        "id": "sg3r3ayVFSGA"
      },
      "source": [
        "def n_gram(input_str, num, mode=\"w\"):\n",
        "  tmp = []\n",
        "  string = \"\"\n",
        "  if mode == \"w\": \n",
        "    string = input_str.split(\" \")\n",
        "    for i in range(len(string)):\n",
        "      tmp.append(string[i: (i+num)])\n",
        "\n",
        "  else:\n",
        "    string = input_str.replace(\" \", \"\")\n",
        "    for i in range(len(string)):\n",
        "       tmp.append([string[i: (i+num)]])\n",
        "      \n",
        "  return tmp"
      ],
      "execution_count": 6,
      "outputs": []
    },
    {
      "cell_type": "code",
      "metadata": {
        "id": "vNq-ccT4IyGo"
      },
      "source": [
        "string = \"I am an NLPer\""
      ],
      "execution_count": 7,
      "outputs": []
    },
    {
      "cell_type": "code",
      "metadata": {
        "id": "t7XX0DtwJnqf",
        "colab": {
          "base_uri": "https://localhost:8080/"
        },
        "outputId": "5b058281-98b6-4f00-c1af-59e1bc72130a"
      },
      "source": [
        "# 単語bi-gram\n",
        "ans =  n_gram(string, num=2, mode=\"w\")\n",
        "print(*ans)"
      ],
      "execution_count": 8,
      "outputs": [
        {
          "output_type": "stream",
          "text": [
            "['I', 'am'] ['am', 'an'] ['an', 'NLPer'] ['NLPer']\n"
          ],
          "name": "stdout"
        }
      ]
    },
    {
      "cell_type": "code",
      "metadata": {
        "id": "sT3Ne3mPKOCd",
        "colab": {
          "base_uri": "https://localhost:8080/"
        },
        "outputId": "666254f1-eb62-4e61-ffc9-9ce99294824e"
      },
      "source": [
        "# 文字bi-gram\n",
        "ans = n_gram(string, num=2, mode=\"s\")\n",
        "print(*ans)"
      ],
      "execution_count": 9,
      "outputs": [
        {
          "output_type": "stream",
          "text": [
            "['Ia'] ['am'] ['ma'] ['an'] ['nN'] ['NL'] ['LP'] ['Pe'] ['er'] ['r']\n"
          ],
          "name": "stdout"
        }
      ]
    },
    {
      "cell_type": "markdown",
      "metadata": {
        "id": "WOEaiQdcVzT6"
      },
      "source": [
        "# 06. 集合\n",
        "“paraparaparadise”と”paragraph”に含まれる文字bi-gramの集合を，それぞれ, XとYとして求め，XとYの和集合，積集合，差集合を求めよ．さらに，’se’というbi-gramがXおよびYに含まれるかどうかを調べよ．"
      ]
    },
    {
      "cell_type": "code",
      "metadata": {
        "id": "eTLZxYpQP95G",
        "colab": {
          "base_uri": "https://localhost:8080/"
        },
        "outputId": "c9789972-7913-4b33-d3f1-3260260cc747"
      },
      "source": [
        "string1 = \"paraparaparadise\"\n",
        "string2 = \"paragraph\"\n",
        "\n",
        "X = n_gram(string1, num=2, mode=\"s\")\n",
        "Y = n_gram(string2, num=2, mode=\"s\")\n",
        "\n",
        "print(*X)\n",
        "print(*Y)"
      ],
      "execution_count": 10,
      "outputs": [
        {
          "output_type": "stream",
          "text": [
            "['pa'] ['ar'] ['ra'] ['ap'] ['pa'] ['ar'] ['ra'] ['ap'] ['pa'] ['ar'] ['ra'] ['ad'] ['di'] ['is'] ['se'] ['e']\n",
            "['pa'] ['ar'] ['ra'] ['ag'] ['gr'] ['ra'] ['ap'] ['ph'] ['h']\n"
          ],
          "name": "stdout"
        }
      ]
    },
    {
      "cell_type": "code",
      "metadata": {
        "id": "4wxg4s3QiPTL"
      },
      "source": [
        "set_X = []\n",
        "for x in X:\n",
        "  set_X.append(x[0])\n",
        "set_X  = set(set_X)\n",
        "set_Y = []\n",
        "for y in Y:\n",
        "   set_Y.append(y[0])\n",
        "set_Y  = set(set_Y)"
      ],
      "execution_count": 11,
      "outputs": []
    },
    {
      "cell_type": "code",
      "metadata": {
        "id": "uvFGnoVtjCFJ",
        "colab": {
          "base_uri": "https://localhost:8080/"
        },
        "outputId": "0d555c2c-6a93-4cfe-a33e-b1e5df19973c"
      },
      "source": [
        "#和集合\n",
        "XY_union = set_X.union(set_Y)\n",
        "XY_union "
      ],
      "execution_count": 12,
      "outputs": [
        {
          "output_type": "execute_result",
          "data": {
            "text/plain": [
              "{'ad', 'ag', 'ap', 'ar', 'di', 'e', 'gr', 'h', 'is', 'pa', 'ph', 'ra', 'se'}"
            ]
          },
          "metadata": {
            "tags": []
          },
          "execution_count": 12
        }
      ]
    },
    {
      "cell_type": "code",
      "metadata": {
        "id": "M-e-jbHYm1Sq",
        "colab": {
          "base_uri": "https://localhost:8080/"
        },
        "outputId": "8651c483-98c5-47aa-9c02-ebdb00dff5a5"
      },
      "source": [
        "#積集合\n",
        "XY_intersection = set_X.intersection(set_Y)\n",
        "XY_intersection"
      ],
      "execution_count": 13,
      "outputs": [
        {
          "output_type": "execute_result",
          "data": {
            "text/plain": [
              "{'ap', 'ar', 'pa', 'ra'}"
            ]
          },
          "metadata": {
            "tags": []
          },
          "execution_count": 13
        }
      ]
    },
    {
      "cell_type": "code",
      "metadata": {
        "id": "cOl5efdym-rY",
        "colab": {
          "base_uri": "https://localhost:8080/"
        },
        "outputId": "c406a0f2-b635-4cd4-8803-8cbd3b0701ac"
      },
      "source": [
        "#差集合\n",
        "XY_difference = set_X.difference(set_Y)\n",
        "XY_difference"
      ],
      "execution_count": 14,
      "outputs": [
        {
          "output_type": "execute_result",
          "data": {
            "text/plain": [
              "{'ad', 'di', 'e', 'is', 'se'}"
            ]
          },
          "metadata": {
            "tags": []
          },
          "execution_count": 14
        }
      ]
    },
    {
      "cell_type": "code",
      "metadata": {
        "id": "YlFxllEunm3l",
        "colab": {
          "base_uri": "https://localhost:8080/"
        },
        "outputId": "44289fcf-4650-4ab9-c915-21c433cfded4"
      },
      "source": [
        "# ’se’というbi-gramがXに含まれるかどうか\n",
        "if \"se\" in set_X:\n",
        "  print(\"Yes\")\n",
        "else:\n",
        "  print(\"No\")"
      ],
      "execution_count": 15,
      "outputs": [
        {
          "output_type": "stream",
          "text": [
            "Yes\n"
          ],
          "name": "stdout"
        }
      ]
    },
    {
      "cell_type": "code",
      "metadata": {
        "id": "_KzTtiOOn1g8",
        "colab": {
          "base_uri": "https://localhost:8080/"
        },
        "outputId": "477b00b8-460a-44a7-c29b-c720b4015f36"
      },
      "source": [
        "# ’se’というbi-gramがYに含まれるかどうか\n",
        "if \"se\" in set_Y:\n",
        "  print(\"Yes\")\n",
        "else:\n",
        "  print(\"No\")"
      ],
      "execution_count": 16,
      "outputs": [
        {
          "output_type": "stream",
          "text": [
            "No\n"
          ],
          "name": "stdout"
        }
      ]
    },
    {
      "cell_type": "markdown",
      "metadata": {
        "id": "o9fWNRDboo7t"
      },
      "source": [
        "### 07. テンプレートによる文生成\n",
        "引数x, y, zを受け取り「x時のyはz」という文字列を返す関数を実装せよ．さらに，x=12, y=”気温”, z=22.4として，実行結果を確認せよ"
      ]
    },
    {
      "cell_type": "code",
      "metadata": {
        "id": "tXVP6mEyn7GK"
      },
      "source": [
        "def create_string(x, y, z):\n",
        "  string = f\"「{x}時の{y}は{z}」\"\n",
        "  return string"
      ],
      "execution_count": 17,
      "outputs": []
    },
    {
      "cell_type": "code",
      "metadata": {
        "id": "xxK0nXAVpUHa",
        "colab": {
          "base_uri": "https://localhost:8080/"
        },
        "outputId": "22cb2135-f333-42bb-c65b-c80d9d065d6b"
      },
      "source": [
        "x=12\n",
        "y=\"気温\"\n",
        "z=22.4\n",
        "\n",
        "print(create_string(x, y, z))"
      ],
      "execution_count": 18,
      "outputs": [
        {
          "output_type": "stream",
          "text": [
            "「12時の気温は22.4」\n"
          ],
          "name": "stdout"
        }
      ]
    },
    {
      "cell_type": "markdown",
      "metadata": {
        "id": "IC8LYh6ZpmaM"
      },
      "source": [
        "### 08. 暗号文\n",
        "与えられた文字列の各文字を，以下の仕様で変換する関数cipherを実装せよ．\n",
        "\n",
        "*   英小文字ならば(219 - 文字コード)の文字に置換\n",
        "*   その他の文字はそのまま出力\n",
        "\n",
        "この関数を用い，英語のメッセージを暗号化・復号化せよ"
      ]
    },
    {
      "cell_type": "markdown",
      "metadata": {
        "id": "09hJ31R6s2wX"
      },
      "source": [
        "ord('文字') と chr(数値) で相互に変換できます。\n",
        "\n",
        "参考：https://qiita.com/ell/items/6eb48e934a147898d823"
      ]
    },
    {
      "cell_type": "code",
      "metadata": {
        "id": "N-r7b2eypzVS"
      },
      "source": [
        "def cipher(intput_str):\n",
        "  ans = \"\"\n",
        "  for s in intput_str:\n",
        "    if s.islower():\n",
        "      ans += str(219-ord(s))\n",
        "    else:\n",
        "      ans += s\n",
        "  return ans"
      ],
      "execution_count": 19,
      "outputs": []
    },
    {
      "cell_type": "code",
      "metadata": {
        "id": "a8cNIbS1pcuz",
        "colab": {
          "base_uri": "https://localhost:8080/"
        },
        "outputId": "533cc3c3-d424-4ba8-bd28-6d296f155b36"
      },
      "source": [
        "print(cipher(\"Chapter\"))"
      ],
      "execution_count": 20,
      "outputs": [
        {
          "output_type": "stream",
          "text": [
            "C115122107103118105\n"
          ],
          "name": "stdout"
        }
      ]
    },
    {
      "cell_type": "markdown",
      "metadata": {
        "id": "FtMNqzmgtV4N"
      },
      "source": [
        "### 09. TypoglycemiaPermalink\n",
        "スペースで区切られた単語列に対して，各単語の先頭と末尾の文字は残し，それ以外の文字の順序をランダムに並び替えるプログラムを作成せよ．\n",
        "\n",
        "ただし，長さが４以下の単語は並び替えないこととする．適当な英語の文（例えば”I couldn’t believe that I could actually understand what I was reading : the phenomenal power of the human mind .”）を与え，その実行結果を確認せよ．"
      ]
    },
    {
      "cell_type": "code",
      "metadata": {
        "id": "BaGCAFj0r2-F"
      },
      "source": [
        "string = \"I couldn’t believe that I could actually understand what I was reading : the phenomenal power of the human mind."
      ],
      "execution_count": 21,
      "outputs": []
    },
    {
      "cell_type": "code",
      "metadata": {
        "id": "gikdz80cthJP",
        "colab": {
          "base_uri": "https://localhost:8080/"
        },
        "outputId": "89526368-16ef-4a14-a339-e683b7bb8d44"
      },
      "source": [
        "import random\n",
        "\n",
        "new_str = string.split(\" \")\n",
        "ans = \"\"\n",
        "for s in new_str:\n",
        "  if len(s) >4:\n",
        "    l = list(s[1:-1])\n",
        "    lr = random.sample(l, len(l))\n",
        "    tmp = s[0]\n",
        "    for r in  lr:\n",
        "      tmp += r\n",
        "    tmp += s[-1]\n",
        "  else:\n",
        "    tmp = s\n",
        "  ans += tmp\n",
        "  ans += \" \"\n",
        "print(ans)\n"
      ],
      "execution_count": 37,
      "outputs": [
        {
          "output_type": "stream",
          "text": [
            "I clon’dut bleveie that I cuold actulaly undesnatrd what I was radineg : the pneenamhol power of the hmaun mdin. \n"
          ],
          "name": "stdout"
        }
      ]
    },
    {
      "cell_type": "code",
      "metadata": {
        "id": "s_fuQIT8xJ5r"
      },
      "source": [
        ""
      ],
      "execution_count": null,
      "outputs": []
    }
  ]
}