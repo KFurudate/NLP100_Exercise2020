{
  "nbformat": 4,
  "nbformat_minor": 0,
  "metadata": {
    "colab": {
      "name": "Chapter1_Warm-up.ipynb",
      "provenance": [],
      "authorship_tag": "ABX9TyNqezX0Ls65yBhVICTYIXaI",
      "include_colab_link": true
    },
    "kernelspec": {
      "name": "python3",
      "display_name": "Python 3"
    }
  },
  "cells": [
    {
      "cell_type": "markdown",
      "metadata": {
        "id": "view-in-github",
        "colab_type": "text"
      },
      "source": [
        "<a href=\"https://colab.research.google.com/github/KFurudate/NLP100_Exercise2020/blob/main/Chapter1_Warm_up.ipynb\" target=\"_parent\"><img src=\"https://colab.research.google.com/assets/colab-badge.svg\" alt=\"Open In Colab\"/></a>"
      ]
    },
    {
      "cell_type": "markdown",
      "metadata": {
        "id": "UiQGWjOHBRZ4"
      },
      "source": [
        "###00. 文字列の逆順\n",
        "文字列”stressed”の文字を逆に（末尾から先頭に向かって）並べた文字列を得よ．"
      ]
    },
    {
      "cell_type": "code",
      "metadata": {
        "colab": {
          "base_uri": "https://localhost:8080/"
        },
        "id": "L7jspVMwBAwu",
        "outputId": "4086235a-e447-4b69-ec89-4a2d2f16ffc0"
      },
      "source": [
        "string = \"stressed\"\n",
        "\n",
        "print(string[::-1])"
      ],
      "execution_count": 2,
      "outputs": [
        {
          "output_type": "stream",
          "text": [
            "desserts\n"
          ],
          "name": "stdout"
        }
      ]
    },
    {
      "cell_type": "markdown",
      "metadata": {
        "id": "NL-sAM2PBqgv"
      },
      "source": [
        "### 01. 「パタトクカシーー\n",
        "「パタトクカシーー」という文字列の1,3,5,7文字目を取り出して連結した文字列を得よ．"
      ]
    },
    {
      "cell_type": "code",
      "metadata": {
        "colab": {
          "base_uri": "https://localhost:8080/"
        },
        "id": "Gu9LSe9lBkSV",
        "outputId": "61f88487-7527-464a-d0ee-fe208a9b0d73"
      },
      "source": [
        "string = \"パタトクカシーー\"\n",
        "\n",
        "new_str = string[0] +  string[2] +  string[4]  +  string[6] \n",
        "print(new_str)"
      ],
      "execution_count": 4,
      "outputs": [
        {
          "output_type": "stream",
          "text": [
            "パトカー\n"
          ],
          "name": "stdout"
        }
      ]
    },
    {
      "cell_type": "markdown",
      "metadata": {
        "id": "FErdX1TWCCNN"
      },
      "source": [
        "### 02. 「パトカー」＋「タクシー」＝「パタトクカシーー」\n",
        "「パトカー」＋「タクシー」の文字を先頭から交互に連結して文字列「パタトクカシーー」を得よ．\n",
        "\n"
      ]
    },
    {
      "cell_type": "code",
      "metadata": {
        "colab": {
          "base_uri": "https://localhost:8080/"
        },
        "id": "1cpiDrEDB92a",
        "outputId": "27fb4292-edbe-44c2-a010-2b9b3ad2c953"
      },
      "source": [
        "str1 = \"パトカー\"\n",
        "str2 = \"タクシー\"\n",
        "new_str = \"\"\n",
        "for i in range(len(str1)):\n",
        "  tmp = str1[i] + str2[i]\n",
        "  new_str += tmp\n",
        "  \n",
        "print(new_str)"
      ],
      "execution_count": 5,
      "outputs": [
        {
          "output_type": "stream",
          "text": [
            "パタトクカシーー\n"
          ],
          "name": "stdout"
        }
      ]
    },
    {
      "cell_type": "markdown",
      "metadata": {
        "id": "_AEbPbMGCrrl"
      },
      "source": [
        "### 03. 円周率\n",
        "“Now I need a drink, alcoholic of course, after the heavy lectures involving quantum mechanics.”という文を単語に分解し，各単語の（アルファベットの）文字数を先頭から出現順に並べたリストを作成せよ．"
      ]
    },
    {
      "cell_type": "code",
      "metadata": {
        "colab": {
          "base_uri": "https://localhost:8080/"
        },
        "id": "27A62HrWChFb",
        "outputId": "5b32a720-5970-404e-87a2-affc3972edd1"
      },
      "source": [
        "string = \"Now I need a drink, alcoholic of course, after the heavy lectures involving quantum mechanics.\"\n",
        "\n",
        "ans =  [len(word) for word in string.split(\" \")]\n",
        "print(ans)"
      ],
      "execution_count": 11,
      "outputs": [
        {
          "output_type": "stream",
          "text": [
            "[3, 1, 4, 1, 6, 9, 2, 7, 5, 3, 5, 8, 9, 7, 10]\n"
          ],
          "name": "stdout"
        }
      ]
    },
    {
      "cell_type": "markdown",
      "metadata": {
        "id": "p48NdIm5EQrY"
      },
      "source": [
        "### 04. 元素記号\n",
        "“Hi He Lied Because Boron Could Not Oxidize Fluorine. New Nations Might Also Sign Peace Security Clause. Arthur King Can.”という文を単語に分解し，1, 5, 6, 7, 8, 9, 15, 16, 19番目の単語は先頭の1文字，それ以外の単語は先頭の2文字を取り出し，取り出した文字列から単語の位置（先頭から何番目の単語か）への連想配列（辞書型もしくはマップ型）を作成せよ．"
      ]
    },
    {
      "cell_type": "code",
      "metadata": {
        "colab": {
          "base_uri": "https://localhost:8080/"
        },
        "id": "8tLouNVPC5tA",
        "outputId": "5e6e34ce-1cf8-4b2a-d686-60f339a5c2b4"
      },
      "source": [
        "string = \"Hi He Lied Because Boron Could Not Oxidize Fluorine. New Nations Might Also Sign Peace Security Clause. Arthur King Can.\"\n",
        "\n",
        "ans_dic = {}\n",
        "\n",
        "for idx, word in enumerate(string.split(\" \")):\n",
        "  key = idx+1\n",
        "  if key in (1, 5, 6, 7, 8, 9, 15, 16, 19):\n",
        "    val = word[0]\n",
        "  else:\n",
        "    val = word[:2]\n",
        "  ans_dic[key] = val\n",
        "\n",
        "print(ans_dic)"
      ],
      "execution_count": 13,
      "outputs": [
        {
          "output_type": "stream",
          "text": [
            "{1: 'H', 2: 'He', 3: 'Li', 4: 'Be', 5: 'B', 6: 'C', 7: 'N', 8: 'O', 9: 'F', 10: 'Ne', 11: 'Na', 12: 'Mi', 13: 'Al', 14: 'Si', 15: 'P', 16: 'S', 17: 'Cl', 18: 'Ar', 19: 'K', 20: 'Ca'}\n"
          ],
          "name": "stdout"
        }
      ]
    },
    {
      "cell_type": "markdown",
      "metadata": {
        "id": "34KsSzefF15S"
      },
      "source": [
        "### 05. n-gram\n",
        "与えられたシーケンス（文字列やリストなど）からn-gramを作る関数を作成せよ．この関数を用い，”I am an NLPer”という文から単語bi-gram，文字bi-gramを得よ"
      ]
    },
    {
      "cell_type": "markdown",
      "metadata": {
        "id": "vrF0qZ25Gpkw"
      },
      "source": [
        "https://qiita.com/kazmaw/items/4df328cba6429ec210fb\n",
        "####任意の文字列や文書を連続したn個の文字で分割するテキスト分割方法．特に，nが1の場合をユニグラム（uni-gram），2の場合をバイグラム（bi-gram），3の場合をトライグラム（tri-gram）と呼ぶ．"
      ]
    },
    {
      "cell_type": "code",
      "metadata": {
        "id": "sg3r3ayVFSGA"
      },
      "source": [
        "def n_gram(input_str, num, mode=\"w\"):\n",
        "  tmp = []\n",
        "  string = \"\"\n",
        "  if mode == \"w\": \n",
        "    string = input_str.split(\" \")\n",
        "    for i in range(len(string)):\n",
        "      tmp.append(string[i: (i+num)])\n",
        "\n",
        "  else:\n",
        "    string = input_str.replace(\" \", \"\")\n",
        "    for i in range(len(string)):\n",
        "       tmp.append([string[i: (i+num)]])\n",
        "      \n",
        "  print(*tmp)"
      ],
      "execution_count": 182,
      "outputs": []
    },
    {
      "cell_type": "code",
      "metadata": {
        "id": "vNq-ccT4IyGo"
      },
      "source": [
        "string = \"I am an NLPer\""
      ],
      "execution_count": 183,
      "outputs": []
    },
    {
      "cell_type": "code",
      "metadata": {
        "colab": {
          "base_uri": "https://localhost:8080/"
        },
        "id": "t7XX0DtwJnqf",
        "outputId": "f7e69f93-f286-4ce8-db5d-e027f75641c4"
      },
      "source": [
        "# 単語bi-gram\n",
        "n_gram(string, num=2, mode=\"w\")"
      ],
      "execution_count": 184,
      "outputs": [
        {
          "output_type": "stream",
          "text": [
            "['I', 'am'] ['am', 'an'] ['an', 'NLPer'] ['NLPer']\n"
          ],
          "name": "stdout"
        }
      ]
    },
    {
      "cell_type": "code",
      "metadata": {
        "colab": {
          "base_uri": "https://localhost:8080/"
        },
        "id": "sT3Ne3mPKOCd",
        "outputId": "bbf3db55-285c-47c9-bd85-7590d6f719c5"
      },
      "source": [
        "# 文字bi-gram\n",
        "n_gram(string, num=2, mode=\"s\")"
      ],
      "execution_count": 185,
      "outputs": [
        {
          "output_type": "stream",
          "text": [
            "['Ia'] ['am'] ['ma'] ['an'] ['nN'] ['NL'] ['LP'] ['Pe'] ['er'] ['r']\n"
          ],
          "name": "stdout"
        }
      ]
    },
    {
      "cell_type": "code",
      "metadata": {
        "id": "eTLZxYpQP95G"
      },
      "source": [
        ""
      ],
      "execution_count": null,
      "outputs": []
    }
  ]
}